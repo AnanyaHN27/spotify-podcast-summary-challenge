{
 "cells": [
  {
   "cell_type": "code",
   "execution_count": 8,
   "id": "75da886d",
   "metadata": {},
   "outputs": [
    {
     "name": "stderr",
     "output_type": "stream",
     "text": [
      "ERROR: Invalid requirement: 'rouge/requirements.txt'\n",
      "WARNING: You are using pip version 21.2.3; however, version 21.3.1 is available.\n",
      "You should consider upgrading via the 'C:\\Users\\anany\\AppData\\Local\\Programs\\Python\\Python39\\python.exe -m pip install --upgrade pip' command.\n"
     ]
    },
    {
     "name": "stdout",
     "output_type": "stream",
     "text": [
      "Collecting rouge\n",
      "  Downloading rouge-1.0.1-py3-none-any.whl (13 kB)\n",
      "Requirement already satisfied: six in c:\\users\\anany\\appdata\\local\\programs\\python\\python39\\lib\\site-packages (from rouge) (1.16.0)\n",
      "Installing collected packages: rouge\n",
      "Successfully installed rouge-1.0.1\n"
     ]
    },
    {
     "name": "stderr",
     "output_type": "stream",
     "text": [
      "  WARNING: The script rouge.exe is installed in 'C:\\Users\\anany\\AppData\\Local\\Programs\\Python\\Python39\\Scripts' which is not on PATH.\n",
      "  Consider adding this directory to PATH or, if you prefer to suppress this warning, use --no-warn-script-location.\n",
      "WARNING: You are using pip version 21.2.3; however, version 21.3.1 is available.\n",
      "You should consider upgrading via the 'C:\\Users\\anany\\AppData\\Local\\Programs\\Python\\Python39\\python.exe -m pip install --upgrade pip' command.\n"
     ]
    }
   ],
   "source": [
    "!py -m pip install rouge/requirements.txt\n",
    "!py -m pip install rouge"
   ]
  },
  {
   "cell_type": "code",
   "execution_count": 29,
   "id": "c959f6e8",
   "metadata": {},
   "outputs": [
    {
     "name": "stdout",
     "output_type": "stream",
     "text": [
      "rouge 1 {'r': 0.3052144609020375, 'p': 0.3495310010837233, 'f': 0.32171153699229466}\n",
      "rouge 2 {'r': 0.09394397765281852, 'p': 0.11060026030169519, 'f': 0.1004630464778524}\n",
      "rouge L {'r': 0.2825484819659083, 'p': 0.32349479441680723, 'f': 0.29772795765716537}\n"
     ]
    }
   ],
   "source": [
    "import pandas as pd\n",
    "from rouge import Rouge\n",
    "\n",
    "df = pd.read_csv(\"predictions.csv\")\n",
    "actuals = df['Actual Headline'].tolist()\n",
    "preds = df['Prediction'].tolist()\n",
    "\n",
    "rouge = Rouge()\n",
    "\n",
    "def get_rouge_score_cust(preds, actuals, rouge_type):\n",
    "    tot_scores = {'r': 0, 'p': 0, 'f': 0}\n",
    "    for i, ac in enumerate(actuals):\n",
    "        scores = rouge.get_scores(preds[i], ac, avg=True)\n",
    "        for key in scores[rouge_type].keys():\n",
    "            tot_scores[key] += scores[rouge_type][key]\n",
    "    for key in tot_scores.keys():\n",
    "        tot_scores[key] = tot_scores[key]/len(actuals)\n",
    "    return tot_scores\n",
    "\n",
    "\n",
    "print(\"rouge 1\", get_rouge_score_cust(preds, actuals, 'rouge-1'))\n",
    "print(\"rouge 2\", get_rouge_score_cust(preds, actuals, 'rouge-2'))\n",
    "print(\"rouge L\", get_rouge_score_cust(preds, actuals, 'rouge-l'))"
   ]
  },
  {
   "cell_type": "code",
   "execution_count": 27,
   "id": "645818cd",
   "metadata": {},
   "outputs": [
    {
     "name": "stdout",
     "output_type": "stream",
     "text": [
      "{'rouge-1': {'r': 0.2926829268292683, 'p': 0.3, 'f': 0.2962962912970584}, 'rouge-2': {'r': 0.05128205128205128, 'p': 0.06666666666666667, 'f': 0.057971009577820205}, 'rouge-l': {'r': 0.2073170731707317, 'p': 0.2125, 'f': 0.20987653821063873}}\n"
     ]
    }
   ],
   "source": [
    "scores = rouge.get_scores(preds[0], actuals[0], avg=True)\n",
    "print(scores)"
   ]
  },
  {
   "cell_type": "code",
   "execution_count": null,
   "id": "71b46a00",
   "metadata": {},
   "outputs": [],
   "source": []
  }
 ],
 "metadata": {
  "kernelspec": {
   "display_name": "Python 3 (ipykernel)",
   "language": "python",
   "name": "python3"
  },
  "language_info": {
   "codemirror_mode": {
    "name": "ipython",
    "version": 3
   },
   "file_extension": ".py",
   "mimetype": "text/x-python",
   "name": "python",
   "nbconvert_exporter": "python",
   "pygments_lexer": "ipython3",
   "version": "3.9.7"
  }
 },
 "nbformat": 4,
 "nbformat_minor": 5
}
